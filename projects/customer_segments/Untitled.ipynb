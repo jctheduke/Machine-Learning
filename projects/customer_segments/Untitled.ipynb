{
 "cells": [
  {
   "cell_type": "code",
   "execution_count": 1,
   "metadata": {
    "collapsed": true
   },
   "outputs": [],
   "source": [
    "# Getting all the required imports\n",
    "import sys # Import for accessing system variable time,date\n",
    "import os  # For crawling through directories,files\n",
    "import re  # Regular expressions for getting the ucrnumber\n",
    "import pandas as pd # For storing the intermediate file\n",
    "import mysql.connector as mariadb"
   ]
  },
  {
   "cell_type": "code",
   "execution_count": 2,
   "metadata": {
    "collapsed": true
   },
   "outputs": [],
   "source": [
    "global mariadb_connection # variable for connecting to maria db\n",
    "mariadb_connection = mariadb.connect(user='root', password='password', database='narrative') #data base authentication.Change user,password and data base accordingly\n",
    "global cursor \n",
    "cursor = mariadb_connection.cursor()  # varibale for executing the SQL queries"
   ]
  },
  {
   "cell_type": "code",
   "execution_count": 3,
   "metadata": {
    "collapsed": false
   },
   "outputs": [],
   "source": [
    "create_table = \"CREATE TABLE IF NOT EXISTS nar(ucrnumber VARCHAR(20),filepath VARCHAR(100),narrative LONGTEXT)\"\n",
    "cursor.execute(create_table)"
   ]
  },
  {
   "cell_type": "code",
   "execution_count": 4,
   "metadata": {
    "collapsed": false
   },
   "outputs": [],
   "source": [
    "files_location = r\"V:\\2015\\DataEntryData\"\n",
    "for dirpath, dirnames, filenames in os.walk(files_location):\n",
    "    for file in filenames:\n",
    "        if 'Narrative_index' in file:\n",
    "            m = re.search(r'(\\d*)$',dirpath)\n",
    "            ucrnumber = m.group(0)\n",
    "            file_path = os.path.join(dirpath,file)\n",
    "            f = open(file_path).readlines()\n",
    "            sql = r\"Insert into  nar values('(%s)','(%s))',(%s));\"\n",
    "            cursor.execute(\"Insert into  nar values(%s,%s,%s);\",(ucrnumber,file_path,f[0]))\n",
    "#             cursor.execute(\"Insert into  nar values(%s,%s,%s);\",(1,2,2))"
   ]
  },
  {
   "cell_type": "code",
   "execution_count": 5,
   "metadata": {
    "collapsed": false,
    "scrolled": true
   },
   "outputs": [],
   "source": [
    "mariadb_connection.commit()\n",
    "mariadb_connection.close()"
   ]
  }
 ],
 "metadata": {
  "kernelspec": {
   "display_name": "Python [conda root]",
   "language": "python",
   "name": "conda-root-py"
  },
  "language_info": {
   "codemirror_mode": {
    "name": "ipython",
    "version": 2
   },
   "file_extension": ".py",
   "mimetype": "text/x-python",
   "name": "python",
   "nbconvert_exporter": "python",
   "pygments_lexer": "ipython2",
   "version": "2.7.12"
  }
 },
 "nbformat": 4,
 "nbformat_minor": 1
}
