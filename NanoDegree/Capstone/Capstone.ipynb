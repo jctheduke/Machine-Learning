{
 "cells": [
  {
   "cell_type": "code",
   "execution_count": 1,
   "metadata": {
    "collapsed": false
   },
   "outputs": [],
   "source": [
    "# Required imports\n",
    "from __future__ import print_function\n",
    "from __future__ import division\n",
    "import pandas as pd  # For storing and manipulation of data files\n",
    "import numpy as np  \n",
    "from sklearn.ensemble import RandomForestClassifier # For finding the weights of features\n",
    "import matplotlib.pyplot as plt  # For plotting figures\n",
    "import seaborn as sns # To make figures more clear\n",
    "from sklearn.feature_selection import SelectFromModel # For selecting the important features\n",
    "from IPython.display import display # Allows the use of display() for DataFrames\n",
    "from sklearn.preprocessing import normalize\n",
    "from sklearn.decomposition import PCA\n",
    "from sklearn.linear_model import LogisticRegression\n",
    "from sklearn.ensemble import AdaBoostClassifier\n",
    "from sklearn.metrics import roc_auc_score # metric for model performance\n",
    "from scipy import stats\n",
    "\n",
    "from sklearn.model_selection import train_test_split\n",
    "from sklearn.model_selection import GridSearchCV\n",
    "\n",
    "%matplotlib inline"
   ]
  },
  {
   "cell_type": "markdown",
   "metadata": {},
   "source": [
    "### DATA EXPLORATION AND PRE_PROCESSING"
   ]
  },
  {
   "cell_type": "code",
   "execution_count": 2,
   "metadata": {
    "collapsed": false
   },
   "outputs": [
    {
     "name": "stdout",
     "output_type": "stream",
     "text": [
      "Number of rows in the training set : 76020 and number of features : 371\n",
      "Number of rows in the testing set  : 75818 and number of features : 370\n"
     ]
    }
   ],
   "source": [
    "# Reading train and test data\n",
    "train_data = pd.read_csv('train.csv')\n",
    "test_data = pd.read_csv('test.csv')\n",
    "print(\"Number of rows in the training set : {} and number of features : {}\".format(train_data.shape[0],train_data.shape[1]))\n",
    "print(\"Number of rows in the testing set  : {} and number of features : {}\".format(test_data.shape[0],test_data.shape[1]))"
   ]
  },
  {
   "cell_type": "markdown",
   "metadata": {},
   "source": [
    "Features and Target variable in the training set are seperated.ID is just the identifiaction number given to a customer,this variable is also extracted in both training and testing sets."
   ]
  },
  {
   "cell_type": "code",
   "execution_count": 3,
   "metadata": {
    "collapsed": false
   },
   "outputs": [
    {
     "name": "stdout",
     "output_type": "stream",
     "text": [
      "Number of Missing values in Training set 0\n",
      "Number of Missing values in Testing set 0\n"
     ]
    }
   ],
   "source": [
    "# Searching for Missing Data\n",
    "print(\"Number of Missing values in Training set\",train_data.isnull().sum().sum())\n",
    "print(\"Number of Missing values in Testing set\",test_data.isnull().sum().sum())"
   ]
  },
  {
   "cell_type": "code",
   "execution_count": 4,
   "metadata": {
    "collapsed": false
   },
   "outputs": [
    {
     "name": "stdout",
     "output_type": "stream",
     "text": [
      "After removing duplicates no of rows in the train data is : 71213\n",
      "Maximun number in train data : 9999999999.0\n",
      "Minimum amount in train data : -999999.0\n",
      "Maximun number in train data : 22034738.76\n",
      "Minimum amount in train data : -4942.26\n"
     ]
    }
   ],
   "source": [
    "# selecting the train labels\n",
    "train_ID = train_data.ID\n",
    "\n",
    "# Extrating ID and target from the train data and test data\n",
    "train_data = train_data.drop(labels=[\"ID\"],axis = 1).drop_duplicates()\n",
    "print(\"After removing duplicates no of rows in the train data is :\",train_data.shape[0])\n",
    "\n",
    "# Maximum and minimum value in the train data\n",
    "print(\"Maximun number in train data :\",max(train_data.max()))\n",
    "print(\"Minimum amount in train data :\",min(train_data.min()))\n",
    "\n",
    "# Removing these values as they are outliers\n",
    "for feature in train_data.keys():\n",
    "    train_data = train_data[train_data[feature] != -999999.00]\n",
    "    train_data = train_data[train_data[feature] != 9999999999.0]\n",
    "\n",
    "# Maximum and minimum value in the train data after noise removal\n",
    "print(\"Maximun number in train data :\",max(train_data.max()))\n",
    "print(\"Minimum amount in train data :\",min(train_data.min()))"
   ]
  },
  {
   "cell_type": "code",
   "execution_count": 5,
   "metadata": {
    "collapsed": true
   },
   "outputs": [],
   "source": [
    "train_labels = train_data.TARGET\n",
    "train_features = train_data.drop(labels=[\"TARGET\"],axis = 1)\n",
    "test_ID = test_data.ID\n",
    "test_features = test_data.drop(\"ID\",axis = 1)"
   ]
  },
  {
   "cell_type": "code",
   "execution_count": 6,
   "metadata": {
    "collapsed": false
   },
   "outputs": [
    {
     "data": {
      "text/html": [
       "<div>\n",
       "<table border=\"1\" class=\"dataframe\">\n",
       "  <thead>\n",
       "    <tr style=\"text-align: right;\">\n",
       "      <th></th>\n",
       "      <th>var3</th>\n",
       "      <th>var15</th>\n",
       "      <th>imp_ent_var16_ult1</th>\n",
       "      <th>imp_op_var39_comer_ult1</th>\n",
       "      <th>imp_op_var39_comer_ult3</th>\n",
       "      <th>imp_op_var40_comer_ult1</th>\n",
       "      <th>imp_op_var40_comer_ult3</th>\n",
       "      <th>imp_op_var40_efect_ult1</th>\n",
       "      <th>imp_op_var40_efect_ult3</th>\n",
       "      <th>imp_op_var40_ult1</th>\n",
       "      <th>...</th>\n",
       "      <th>saldo_medio_var29_ult3</th>\n",
       "      <th>saldo_medio_var33_hace2</th>\n",
       "      <th>saldo_medio_var33_hace3</th>\n",
       "      <th>saldo_medio_var33_ult1</th>\n",
       "      <th>saldo_medio_var33_ult3</th>\n",
       "      <th>saldo_medio_var44_hace2</th>\n",
       "      <th>saldo_medio_var44_hace3</th>\n",
       "      <th>saldo_medio_var44_ult1</th>\n",
       "      <th>saldo_medio_var44_ult3</th>\n",
       "      <th>var38</th>\n",
       "    </tr>\n",
       "  </thead>\n",
       "  <tbody>\n",
       "    <tr>\n",
       "      <th>count</th>\n",
       "      <td>70571.000000</td>\n",
       "      <td>70571.000000</td>\n",
       "      <td>70571.000000</td>\n",
       "      <td>70571.000000</td>\n",
       "      <td>70571.000000</td>\n",
       "      <td>70571.000000</td>\n",
       "      <td>70571.000000</td>\n",
       "      <td>70571.000000</td>\n",
       "      <td>70571.000000</td>\n",
       "      <td>70571.000000</td>\n",
       "      <td>...</td>\n",
       "      <td>70571.000000</td>\n",
       "      <td>70571.000000</td>\n",
       "      <td>70571.000000</td>\n",
       "      <td>70571.000000</td>\n",
       "      <td>70571.000000</td>\n",
       "      <td>70571.000000</td>\n",
       "      <td>70571.000000</td>\n",
       "      <td>70571.000000</td>\n",
       "      <td>70571.000000</td>\n",
       "      <td>7.057100e+04</td>\n",
       "    </tr>\n",
       "    <tr>\n",
       "      <th>mean</th>\n",
       "      <td>2.759349</td>\n",
       "      <td>33.443582</td>\n",
       "      <td>78.620067</td>\n",
       "      <td>77.067194</td>\n",
       "      <td>127.607221</td>\n",
       "      <td>3.735173</td>\n",
       "      <td>6.847149</td>\n",
       "      <td>0.444831</td>\n",
       "      <td>0.611159</td>\n",
       "      <td>3.319763</td>\n",
       "      <td>...</td>\n",
       "      <td>0.151575</td>\n",
       "      <td>7.896149</td>\n",
       "      <td>1.470553</td>\n",
       "      <td>11.001077</td>\n",
       "      <td>8.025597</td>\n",
       "      <td>23.746897</td>\n",
       "      <td>1.490729</td>\n",
       "      <td>42.351595</td>\n",
       "      <td>28.143850</td>\n",
       "      <td>1.169753e+05</td>\n",
       "    </tr>\n",
       "    <tr>\n",
       "      <th>std</th>\n",
       "      <td>9.735876</td>\n",
       "      <td>13.025949</td>\n",
       "      <td>1195.799122</td>\n",
       "      <td>348.882494</td>\n",
       "      <td>563.329251</td>\n",
       "      <td>95.672929</td>\n",
       "      <td>158.821150</td>\n",
       "      <td>31.764236</td>\n",
       "      <td>37.896630</td>\n",
       "      <td>98.060591</td>\n",
       "      <td>...</td>\n",
       "      <td>30.366251</td>\n",
       "      <td>442.177056</td>\n",
       "      <td>118.276828</td>\n",
       "      <td>621.667522</td>\n",
       "      <td>438.724181</td>\n",
       "      <td>1979.705347</td>\n",
       "      <td>132.162255</td>\n",
       "      <td>3348.487651</td>\n",
       "      <td>2039.339273</td>\n",
       "      <td>1.882382e+05</td>\n",
       "    </tr>\n",
       "    <tr>\n",
       "      <th>min</th>\n",
       "      <td>0.000000</td>\n",
       "      <td>5.000000</td>\n",
       "      <td>0.000000</td>\n",
       "      <td>0.000000</td>\n",
       "      <td>0.000000</td>\n",
       "      <td>0.000000</td>\n",
       "      <td>0.000000</td>\n",
       "      <td>0.000000</td>\n",
       "      <td>0.000000</td>\n",
       "      <td>0.000000</td>\n",
       "      <td>...</td>\n",
       "      <td>0.000000</td>\n",
       "      <td>0.000000</td>\n",
       "      <td>0.000000</td>\n",
       "      <td>0.000000</td>\n",
       "      <td>0.000000</td>\n",
       "      <td>0.000000</td>\n",
       "      <td>0.000000</td>\n",
       "      <td>0.000000</td>\n",
       "      <td>0.000000</td>\n",
       "      <td>5.163750e+03</td>\n",
       "    </tr>\n",
       "    <tr>\n",
       "      <th>25%</th>\n",
       "      <td>2.000000</td>\n",
       "      <td>23.000000</td>\n",
       "      <td>0.000000</td>\n",
       "      <td>0.000000</td>\n",
       "      <td>0.000000</td>\n",
       "      <td>0.000000</td>\n",
       "      <td>0.000000</td>\n",
       "      <td>0.000000</td>\n",
       "      <td>0.000000</td>\n",
       "      <td>0.000000</td>\n",
       "      <td>...</td>\n",
       "      <td>0.000000</td>\n",
       "      <td>0.000000</td>\n",
       "      <td>0.000000</td>\n",
       "      <td>0.000000</td>\n",
       "      <td>0.000000</td>\n",
       "      <td>0.000000</td>\n",
       "      <td>0.000000</td>\n",
       "      <td>0.000000</td>\n",
       "      <td>0.000000</td>\n",
       "      <td>6.574374e+04</td>\n",
       "    </tr>\n",
       "    <tr>\n",
       "      <th>50%</th>\n",
       "      <td>2.000000</td>\n",
       "      <td>28.000000</td>\n",
       "      <td>0.000000</td>\n",
       "      <td>0.000000</td>\n",
       "      <td>0.000000</td>\n",
       "      <td>0.000000</td>\n",
       "      <td>0.000000</td>\n",
       "      <td>0.000000</td>\n",
       "      <td>0.000000</td>\n",
       "      <td>0.000000</td>\n",
       "      <td>...</td>\n",
       "      <td>0.000000</td>\n",
       "      <td>0.000000</td>\n",
       "      <td>0.000000</td>\n",
       "      <td>0.000000</td>\n",
       "      <td>0.000000</td>\n",
       "      <td>0.000000</td>\n",
       "      <td>0.000000</td>\n",
       "      <td>0.000000</td>\n",
       "      <td>0.000000</td>\n",
       "      <td>9.983727e+04</td>\n",
       "    </tr>\n",
       "    <tr>\n",
       "      <th>75%</th>\n",
       "      <td>2.000000</td>\n",
       "      <td>40.000000</td>\n",
       "      <td>0.000000</td>\n",
       "      <td>0.000000</td>\n",
       "      <td>0.000000</td>\n",
       "      <td>0.000000</td>\n",
       "      <td>0.000000</td>\n",
       "      <td>0.000000</td>\n",
       "      <td>0.000000</td>\n",
       "      <td>0.000000</td>\n",
       "      <td>...</td>\n",
       "      <td>0.000000</td>\n",
       "      <td>0.000000</td>\n",
       "      <td>0.000000</td>\n",
       "      <td>0.000000</td>\n",
       "      <td>0.000000</td>\n",
       "      <td>0.000000</td>\n",
       "      <td>0.000000</td>\n",
       "      <td>0.000000</td>\n",
       "      <td>0.000000</td>\n",
       "      <td>1.227576e+05</td>\n",
       "    </tr>\n",
       "    <tr>\n",
       "      <th>max</th>\n",
       "      <td>238.000000</td>\n",
       "      <td>105.000000</td>\n",
       "      <td>135000.000000</td>\n",
       "      <td>12888.030000</td>\n",
       "      <td>21024.810000</td>\n",
       "      <td>8237.820000</td>\n",
       "      <td>11073.570000</td>\n",
       "      <td>6600.000000</td>\n",
       "      <td>6600.000000</td>\n",
       "      <td>8237.820000</td>\n",
       "      <td>...</td>\n",
       "      <td>7331.340000</td>\n",
       "      <td>50003.880000</td>\n",
       "      <td>20385.720000</td>\n",
       "      <td>63317.190000</td>\n",
       "      <td>42767.160000</td>\n",
       "      <td>438329.220000</td>\n",
       "      <td>24650.010000</td>\n",
       "      <td>681462.900000</td>\n",
       "      <td>374947.530000</td>\n",
       "      <td>2.203474e+07</td>\n",
       "    </tr>\n",
       "  </tbody>\n",
       "</table>\n",
       "<p>8 rows × 369 columns</p>\n",
       "</div>"
      ],
      "text/plain": [
       "               var3         var15  imp_ent_var16_ult1  \\\n",
       "count  70571.000000  70571.000000        70571.000000   \n",
       "mean       2.759349     33.443582           78.620067   \n",
       "std        9.735876     13.025949         1195.799122   \n",
       "min        0.000000      5.000000            0.000000   \n",
       "25%        2.000000     23.000000            0.000000   \n",
       "50%        2.000000     28.000000            0.000000   \n",
       "75%        2.000000     40.000000            0.000000   \n",
       "max      238.000000    105.000000       135000.000000   \n",
       "\n",
       "       imp_op_var39_comer_ult1  imp_op_var39_comer_ult3  \\\n",
       "count             70571.000000             70571.000000   \n",
       "mean                 77.067194               127.607221   \n",
       "std                 348.882494               563.329251   \n",
       "min                   0.000000                 0.000000   \n",
       "25%                   0.000000                 0.000000   \n",
       "50%                   0.000000                 0.000000   \n",
       "75%                   0.000000                 0.000000   \n",
       "max               12888.030000             21024.810000   \n",
       "\n",
       "       imp_op_var40_comer_ult1  imp_op_var40_comer_ult3  \\\n",
       "count             70571.000000             70571.000000   \n",
       "mean                  3.735173                 6.847149   \n",
       "std                  95.672929               158.821150   \n",
       "min                   0.000000                 0.000000   \n",
       "25%                   0.000000                 0.000000   \n",
       "50%                   0.000000                 0.000000   \n",
       "75%                   0.000000                 0.000000   \n",
       "max                8237.820000             11073.570000   \n",
       "\n",
       "       imp_op_var40_efect_ult1  imp_op_var40_efect_ult3  imp_op_var40_ult1  \\\n",
       "count             70571.000000             70571.000000       70571.000000   \n",
       "mean                  0.444831                 0.611159           3.319763   \n",
       "std                  31.764236                37.896630          98.060591   \n",
       "min                   0.000000                 0.000000           0.000000   \n",
       "25%                   0.000000                 0.000000           0.000000   \n",
       "50%                   0.000000                 0.000000           0.000000   \n",
       "75%                   0.000000                 0.000000           0.000000   \n",
       "max                6600.000000              6600.000000        8237.820000   \n",
       "\n",
       "           ...       saldo_medio_var29_ult3  saldo_medio_var33_hace2  \\\n",
       "count      ...                 70571.000000             70571.000000   \n",
       "mean       ...                     0.151575                 7.896149   \n",
       "std        ...                    30.366251               442.177056   \n",
       "min        ...                     0.000000                 0.000000   \n",
       "25%        ...                     0.000000                 0.000000   \n",
       "50%        ...                     0.000000                 0.000000   \n",
       "75%        ...                     0.000000                 0.000000   \n",
       "max        ...                  7331.340000             50003.880000   \n",
       "\n",
       "       saldo_medio_var33_hace3  saldo_medio_var33_ult1  \\\n",
       "count             70571.000000            70571.000000   \n",
       "mean                  1.470553               11.001077   \n",
       "std                 118.276828              621.667522   \n",
       "min                   0.000000                0.000000   \n",
       "25%                   0.000000                0.000000   \n",
       "50%                   0.000000                0.000000   \n",
       "75%                   0.000000                0.000000   \n",
       "max               20385.720000            63317.190000   \n",
       "\n",
       "       saldo_medio_var33_ult3  saldo_medio_var44_hace2  \\\n",
       "count            70571.000000             70571.000000   \n",
       "mean                 8.025597                23.746897   \n",
       "std                438.724181              1979.705347   \n",
       "min                  0.000000                 0.000000   \n",
       "25%                  0.000000                 0.000000   \n",
       "50%                  0.000000                 0.000000   \n",
       "75%                  0.000000                 0.000000   \n",
       "max              42767.160000            438329.220000   \n",
       "\n",
       "       saldo_medio_var44_hace3  saldo_medio_var44_ult1  \\\n",
       "count             70571.000000            70571.000000   \n",
       "mean                  1.490729               42.351595   \n",
       "std                 132.162255             3348.487651   \n",
       "min                   0.000000                0.000000   \n",
       "25%                   0.000000                0.000000   \n",
       "50%                   0.000000                0.000000   \n",
       "75%                   0.000000                0.000000   \n",
       "max               24650.010000           681462.900000   \n",
       "\n",
       "       saldo_medio_var44_ult3         var38  \n",
       "count            70571.000000  7.057100e+04  \n",
       "mean                28.143850  1.169753e+05  \n",
       "std               2039.339273  1.882382e+05  \n",
       "min                  0.000000  5.163750e+03  \n",
       "25%                  0.000000  6.574374e+04  \n",
       "50%                  0.000000  9.983727e+04  \n",
       "75%                  0.000000  1.227576e+05  \n",
       "max             374947.530000  2.203474e+07  \n",
       "\n",
       "[8 rows x 369 columns]"
      ]
     },
     "execution_count": 6,
     "metadata": {},
     "output_type": "execute_result"
    }
   ],
   "source": [
    "# Sample structure of the features\n",
    "train_features.describe()"
   ]
  },
  {
   "cell_type": "markdown",
   "metadata": {},
   "source": [
    "All the features in the dataset are numerical features.So,there is no need for conversion of categorical data using one hot encoding.\n",
    "But Number of features are too large for such a small dataset. Feature selection has to be performed to extract important features."
   ]
  },
  {
   "cell_type": "code",
   "execution_count": 7,
   "metadata": {
    "collapsed": false
   },
   "outputs": [
    {
     "name": "stdout",
     "output_type": "stream",
     "text": [
      "Data types and count of features :  (array([dtype('int64'), dtype('float64')], dtype=object), array([258, 111]))\n"
     ]
    }
   ],
   "source": [
    "print(\"Data types and count of features : \",(np.unique(train_features.dtypes,return_counts=True)))"
   ]
  },
  {
   "cell_type": "markdown",
   "metadata": {},
   "source": [
    "Values for few columns like var38 is so high.There is a huge differences between 75th percentile and max values.\n",
    "To avoid model giving high weitage to large values.we should normalize this data."
   ]
  },
  {
   "cell_type": "code",
   "execution_count": 8,
   "metadata": {
    "collapsed": true
   },
   "outputs": [],
   "source": [
    "# Normalize each feature individually\n",
    "normalized_train_data = pd.DataFrame(normalize(train_features,axis=0))\n",
    "normalized_test_data = pd.DataFrame(normalize(test_features,axis = 0))"
   ]
  },
  {
   "cell_type": "code",
   "execution_count": 9,
   "metadata": {
    "collapsed": false,
    "scrolled": true
   },
   "outputs": [
    {
     "data": {
      "text/html": [
       "<div>\n",
       "<table border=\"1\" class=\"dataframe\">\n",
       "  <thead>\n",
       "    <tr style=\"text-align: right;\">\n",
       "      <th></th>\n",
       "      <th>0</th>\n",
       "      <th>1</th>\n",
       "      <th>2</th>\n",
       "      <th>3</th>\n",
       "      <th>4</th>\n",
       "      <th>5</th>\n",
       "      <th>6</th>\n",
       "      <th>7</th>\n",
       "      <th>8</th>\n",
       "      <th>9</th>\n",
       "      <th>...</th>\n",
       "      <th>359</th>\n",
       "      <th>360</th>\n",
       "      <th>361</th>\n",
       "      <th>362</th>\n",
       "      <th>363</th>\n",
       "      <th>364</th>\n",
       "      <th>365</th>\n",
       "      <th>366</th>\n",
       "      <th>367</th>\n",
       "      <th>368</th>\n",
       "    </tr>\n",
       "  </thead>\n",
       "  <tbody>\n",
       "    <tr>\n",
       "      <th>count</th>\n",
       "      <td>70571.000000</td>\n",
       "      <td>70571.000000</td>\n",
       "      <td>70571.000000</td>\n",
       "      <td>70571.000000</td>\n",
       "      <td>70571.000000</td>\n",
       "      <td>70571.000000</td>\n",
       "      <td>70571.000000</td>\n",
       "      <td>70571.000000</td>\n",
       "      <td>70571.000000</td>\n",
       "      <td>70571.000000</td>\n",
       "      <td>...</td>\n",
       "      <td>70571.000000</td>\n",
       "      <td>70571.000000</td>\n",
       "      <td>70571.000000</td>\n",
       "      <td>70571.000000</td>\n",
       "      <td>70571.000000</td>\n",
       "      <td>70571.000000</td>\n",
       "      <td>70571.000000</td>\n",
       "      <td>70571.000000</td>\n",
       "      <td>70571.000000</td>\n",
       "      <td>70571.000000</td>\n",
       "    </tr>\n",
       "    <tr>\n",
       "      <th>mean</th>\n",
       "      <td>0.001026</td>\n",
       "      <td>0.003508</td>\n",
       "      <td>0.000247</td>\n",
       "      <td>0.000812</td>\n",
       "      <td>0.000832</td>\n",
       "      <td>0.000147</td>\n",
       "      <td>0.000162</td>\n",
       "      <td>0.000053</td>\n",
       "      <td>0.000061</td>\n",
       "      <td>0.000127</td>\n",
       "      <td>...</td>\n",
       "      <td>0.000019</td>\n",
       "      <td>0.000067</td>\n",
       "      <td>0.000047</td>\n",
       "      <td>0.000067</td>\n",
       "      <td>0.000069</td>\n",
       "      <td>0.000045</td>\n",
       "      <td>0.000042</td>\n",
       "      <td>0.000048</td>\n",
       "      <td>0.000052</td>\n",
       "      <td>0.001987</td>\n",
       "    </tr>\n",
       "    <tr>\n",
       "      <th>std</th>\n",
       "      <td>0.003622</td>\n",
       "      <td>0.001366</td>\n",
       "      <td>0.003756</td>\n",
       "      <td>0.003676</td>\n",
       "      <td>0.003671</td>\n",
       "      <td>0.003761</td>\n",
       "      <td>0.003761</td>\n",
       "      <td>0.003764</td>\n",
       "      <td>0.003764</td>\n",
       "      <td>0.003762</td>\n",
       "      <td>...</td>\n",
       "      <td>0.003764</td>\n",
       "      <td>0.003764</td>\n",
       "      <td>0.003764</td>\n",
       "      <td>0.003764</td>\n",
       "      <td>0.003764</td>\n",
       "      <td>0.003764</td>\n",
       "      <td>0.003764</td>\n",
       "      <td>0.003764</td>\n",
       "      <td>0.003764</td>\n",
       "      <td>0.003197</td>\n",
       "    </tr>\n",
       "    <tr>\n",
       "      <th>min</th>\n",
       "      <td>0.000000</td>\n",
       "      <td>0.000524</td>\n",
       "      <td>0.000000</td>\n",
       "      <td>0.000000</td>\n",
       "      <td>0.000000</td>\n",
       "      <td>0.000000</td>\n",
       "      <td>0.000000</td>\n",
       "      <td>0.000000</td>\n",
       "      <td>0.000000</td>\n",
       "      <td>0.000000</td>\n",
       "      <td>...</td>\n",
       "      <td>0.000000</td>\n",
       "      <td>0.000000</td>\n",
       "      <td>0.000000</td>\n",
       "      <td>0.000000</td>\n",
       "      <td>0.000000</td>\n",
       "      <td>0.000000</td>\n",
       "      <td>0.000000</td>\n",
       "      <td>0.000000</td>\n",
       "      <td>0.000000</td>\n",
       "      <td>0.000088</td>\n",
       "    </tr>\n",
       "    <tr>\n",
       "      <th>25%</th>\n",
       "      <td>0.000744</td>\n",
       "      <td>0.002412</td>\n",
       "      <td>0.000000</td>\n",
       "      <td>0.000000</td>\n",
       "      <td>0.000000</td>\n",
       "      <td>0.000000</td>\n",
       "      <td>0.000000</td>\n",
       "      <td>0.000000</td>\n",
       "      <td>0.000000</td>\n",
       "      <td>0.000000</td>\n",
       "      <td>...</td>\n",
       "      <td>0.000000</td>\n",
       "      <td>0.000000</td>\n",
       "      <td>0.000000</td>\n",
       "      <td>0.000000</td>\n",
       "      <td>0.000000</td>\n",
       "      <td>0.000000</td>\n",
       "      <td>0.000000</td>\n",
       "      <td>0.000000</td>\n",
       "      <td>0.000000</td>\n",
       "      <td>0.001117</td>\n",
       "    </tr>\n",
       "    <tr>\n",
       "      <th>50%</th>\n",
       "      <td>0.000744</td>\n",
       "      <td>0.002937</td>\n",
       "      <td>0.000000</td>\n",
       "      <td>0.000000</td>\n",
       "      <td>0.000000</td>\n",
       "      <td>0.000000</td>\n",
       "      <td>0.000000</td>\n",
       "      <td>0.000000</td>\n",
       "      <td>0.000000</td>\n",
       "      <td>0.000000</td>\n",
       "      <td>...</td>\n",
       "      <td>0.000000</td>\n",
       "      <td>0.000000</td>\n",
       "      <td>0.000000</td>\n",
       "      <td>0.000000</td>\n",
       "      <td>0.000000</td>\n",
       "      <td>0.000000</td>\n",
       "      <td>0.000000</td>\n",
       "      <td>0.000000</td>\n",
       "      <td>0.000000</td>\n",
       "      <td>0.001696</td>\n",
       "    </tr>\n",
       "    <tr>\n",
       "      <th>75%</th>\n",
       "      <td>0.000744</td>\n",
       "      <td>0.004195</td>\n",
       "      <td>0.000000</td>\n",
       "      <td>0.000000</td>\n",
       "      <td>0.000000</td>\n",
       "      <td>0.000000</td>\n",
       "      <td>0.000000</td>\n",
       "      <td>0.000000</td>\n",
       "      <td>0.000000</td>\n",
       "      <td>0.000000</td>\n",
       "      <td>...</td>\n",
       "      <td>0.000000</td>\n",
       "      <td>0.000000</td>\n",
       "      <td>0.000000</td>\n",
       "      <td>0.000000</td>\n",
       "      <td>0.000000</td>\n",
       "      <td>0.000000</td>\n",
       "      <td>0.000000</td>\n",
       "      <td>0.000000</td>\n",
       "      <td>0.000000</td>\n",
       "      <td>0.002085</td>\n",
       "    </tr>\n",
       "    <tr>\n",
       "      <th>max</th>\n",
       "      <td>0.088535</td>\n",
       "      <td>0.011013</td>\n",
       "      <td>0.424061</td>\n",
       "      <td>0.135785</td>\n",
       "      <td>0.137023</td>\n",
       "      <td>0.323879</td>\n",
       "      <td>0.262220</td>\n",
       "      <td>0.782083</td>\n",
       "      <td>0.655506</td>\n",
       "      <td>0.316052</td>\n",
       "      <td>...</td>\n",
       "      <td>0.908818</td>\n",
       "      <td>0.425626</td>\n",
       "      <td>0.648758</td>\n",
       "      <td>0.383341</td>\n",
       "      <td>0.366890</td>\n",
       "      <td>0.833410</td>\n",
       "      <td>0.702056</td>\n",
       "      <td>0.766035</td>\n",
       "      <td>0.692037</td>\n",
       "      <td>0.374267</td>\n",
       "    </tr>\n",
       "  </tbody>\n",
       "</table>\n",
       "<p>8 rows × 369 columns</p>\n",
       "</div>"
      ],
      "text/plain": [
       "                0             1             2             3             4    \\\n",
       "count  70571.000000  70571.000000  70571.000000  70571.000000  70571.000000   \n",
       "mean       0.001026      0.003508      0.000247      0.000812      0.000832   \n",
       "std        0.003622      0.001366      0.003756      0.003676      0.003671   \n",
       "min        0.000000      0.000524      0.000000      0.000000      0.000000   \n",
       "25%        0.000744      0.002412      0.000000      0.000000      0.000000   \n",
       "50%        0.000744      0.002937      0.000000      0.000000      0.000000   \n",
       "75%        0.000744      0.004195      0.000000      0.000000      0.000000   \n",
       "max        0.088535      0.011013      0.424061      0.135785      0.137023   \n",
       "\n",
       "                5             6             7             8             9    \\\n",
       "count  70571.000000  70571.000000  70571.000000  70571.000000  70571.000000   \n",
       "mean       0.000147      0.000162      0.000053      0.000061      0.000127   \n",
       "std        0.003761      0.003761      0.003764      0.003764      0.003762   \n",
       "min        0.000000      0.000000      0.000000      0.000000      0.000000   \n",
       "25%        0.000000      0.000000      0.000000      0.000000      0.000000   \n",
       "50%        0.000000      0.000000      0.000000      0.000000      0.000000   \n",
       "75%        0.000000      0.000000      0.000000      0.000000      0.000000   \n",
       "max        0.323879      0.262220      0.782083      0.655506      0.316052   \n",
       "\n",
       "           ...                359           360           361           362  \\\n",
       "count      ...       70571.000000  70571.000000  70571.000000  70571.000000   \n",
       "mean       ...           0.000019      0.000067      0.000047      0.000067   \n",
       "std        ...           0.003764      0.003764      0.003764      0.003764   \n",
       "min        ...           0.000000      0.000000      0.000000      0.000000   \n",
       "25%        ...           0.000000      0.000000      0.000000      0.000000   \n",
       "50%        ...           0.000000      0.000000      0.000000      0.000000   \n",
       "75%        ...           0.000000      0.000000      0.000000      0.000000   \n",
       "max        ...           0.908818      0.425626      0.648758      0.383341   \n",
       "\n",
       "                363           364           365           366           367  \\\n",
       "count  70571.000000  70571.000000  70571.000000  70571.000000  70571.000000   \n",
       "mean       0.000069      0.000045      0.000042      0.000048      0.000052   \n",
       "std        0.003764      0.003764      0.003764      0.003764      0.003764   \n",
       "min        0.000000      0.000000      0.000000      0.000000      0.000000   \n",
       "25%        0.000000      0.000000      0.000000      0.000000      0.000000   \n",
       "50%        0.000000      0.000000      0.000000      0.000000      0.000000   \n",
       "75%        0.000000      0.000000      0.000000      0.000000      0.000000   \n",
       "max        0.366890      0.833410      0.702056      0.766035      0.692037   \n",
       "\n",
       "                368  \n",
       "count  70571.000000  \n",
       "mean       0.001987  \n",
       "std        0.003197  \n",
       "min        0.000088  \n",
       "25%        0.001117  \n",
       "50%        0.001696  \n",
       "75%        0.002085  \n",
       "max        0.374267  \n",
       "\n",
       "[8 rows x 369 columns]"
      ]
     },
     "execution_count": 9,
     "metadata": {},
     "output_type": "execute_result"
    }
   ],
   "source": [
    "# Now the train data is more normalized.\n",
    "normalized_train_data.describe()"
   ]
  },
  {
   "cell_type": "code",
   "execution_count": 10,
   "metadata": {
    "collapsed": false
   },
   "outputs": [
    {
     "data": {
      "text/plain": [
       "<matplotlib.figure.Figure at 0x7fc2b0603510>"
      ]
     },
     "metadata": {},
     "output_type": "display_data"
    },
    {
     "data": {
      "image/png": "[encoded data removed]",
      "text/plain": [
       "<matplotlib.figure.Figure at 0x7fc2b0ab8650>"
      ]
     },
     "metadata": {},
     "output_type": "display_data"
    }
   ],
   "source": [
    "# Using adaboost method for exporting important features\n",
    "adc = AdaBoostClassifier(n_estimators=50,random_state=50)\n",
    "adc.fit(normalized_train_data,train_labels)\n",
    "\n",
    "# Extracting features and corresponding weights\n",
    "features = normalized_train_data.columns.values\n",
    "weight_values = adc.feature_importances_\n",
    "\n",
    "# Forming a data fram with features and corresponsding weights.Add sorting them based on weights\n",
    "feature_weights = pd.DataFrame({'features':features,'weights':weight_values})\n",
    "feature_weights.sort_values(['weights'],ascending=False,inplace=True)\n",
    "\n",
    "# Plotting 20 important features with corresponding weights\n",
    "top_20_features = feature_weights.head(20)\n",
    "plt.figure()\n",
    "top_20_features.plot(x =top_20_features.features,y =1, kind='bar',figsize=(10,4),title='Top 20 Important Features');\n",
    "plt.savefig(\"Hello.png\")"
   ]
  },
  {
   "cell_type": "code",
   "execution_count": 11,
   "metadata": {
    "collapsed": false
   },
   "outputs": [
    {
     "data": {
      "text/plain": [
       "<matplotlib.figure.Figure at 0x7fc2c5859b10>"
      ]
     },
     "metadata": {},
     "output_type": "display_data"
    },
    {
     "data": {
      "image/png": "[encoded data removed]",
      "text/plain": [
       "<matplotlib.figure.Figure at 0x7fc2b0aab710>"
      ]
     },
     "metadata": {},
     "output_type": "display_data"
    }
   ],
   "source": [
    "# Box plot of top 20 features \n",
    "plt.figure();\n",
    "ax = normalized_train_data[top_20_features.features].plot(kind = 'box',title = \"Box plot of top 20 features\",figsize =(20,5));\n",
    "ax.set_xlabel(\"features\")\n",
    "ax.set_ylabel(\"values after normalization\")\n",
    "plt.savefig(\"Boxplot of 20 features\")"
   ]
  },
  {
   "cell_type": "code",
   "execution_count": 12,
   "metadata": {
    "collapsed": false
   },
   "outputs": [
    {
     "name": "stdout",
     "output_type": "stream",
     "text": [
      "Data types and count of features :  (array([dtype('float64')], dtype=object), array([20]))\n"
     ]
    }
   ],
   "source": [
    "print(\"Data types and count of features : \",(np.unique(normalized_train_data[top_20_features.features].dtypes,return_counts=True)))"
   ]
  },
  {
   "cell_type": "code",
   "execution_count": 13,
   "metadata": {
    "collapsed": false
   },
   "outputs": [
    {
     "name": "stdout",
     "output_type": "stream",
     "text": [
      "Number of features with 95% cumulative weight : 26\n",
      "Shape of train features after future selection : (70571, 26)\n",
      "Shape of test features after future selection:  (75818, 26)\n"
     ]
    }
   ],
   "source": [
    "# Extracting features with overall cumulative weight of 95 percent\n",
    "weights_cumsum = feature_weights.cumsum()\n",
    "index_values = weights_cumsum[weights_cumsum.weights <= 0.95].index.tolist()\n",
    "print(\"Number of features with 95% cumulative weight :\",len(index_values))\n",
    "top_95_percent_train_features = normalized_train_data[normalized_train_data.columns[index_values]]\n",
    "top_95_percent_test_features  = normalized_test_data[normalized_test_data.columns[index_values]]\n",
    "\n",
    "print(\"Shape of train features after future selection :\",top_95_percent_train_features.shape)\n",
    "print(\"Shape of test features after future selection: \",top_95_percent_test_features.shape)"
   ]
  },
  {
   "cell_type": "code",
   "execution_count": 14,
   "metadata": {
    "collapsed": true
   },
   "outputs": [],
   "source": [
    "# Default Random Forest Model\n",
    "\n",
    "defaultRF = RandomForestClassifier(random_state=50)\n",
    "defaultRF.fit(normalized_train_data,train_labels)\n",
    "DRF_predictions = defaultRF.predict_proba(normalized_test_data)\n",
    "pd.DataFrame({\"ID\":test_ID.values,\"TARGET\":DRF_predictions[:,1]}).to_csv('submissionDFRandom.csv',index = False)"
   ]
  },
  {
   "cell_type": "code",
   "execution_count": 15,
   "metadata": {
    "collapsed": false
   },
   "outputs": [
    {
     "name": "stdout",
     "output_type": "stream",
     "text": [
      "Fitting 10 folds for each of 4 candidates, totalling 40 fits\n",
      "[CV] n_estimators=1000, max_depth=13 .................................\n",
      "[CV] n_estimators=1000, max_depth=13 .................................\n",
      "[CV] n_estimators=1000, max_depth=13 .................................\n",
      "[CV] n_estimators=1000, max_depth=13 .................................\n",
      "[CV] .. n_estimators=1000, max_depth=13, score=0.812484, total= 2.6min\n",
      "[CV] n_estimators=1000, max_depth=13 .................................\n",
      "[CV] .. n_estimators=1000, max_depth=13, score=0.831738, total= 2.6min\n",
      "[CV] n_estimators=1000, max_depth=13 .................................\n",
      "[CV] .. n_estimators=1000, max_depth=13, score=0.836059, total= 2.7min\n",
      "[CV] n_estimators=1000, max_depth=13 .................................\n",
      "[CV] .. n_estimators=1000, max_depth=13, score=0.828894, total= 2.8min\n",
      "[CV] n_estimators=1000, max_depth=13 .................................\n",
      "[CV] .. n_estimators=1000, max_depth=13, score=0.834319, total= 2.7min\n",
      "[CV] n_estimators=1000, max_depth=13 .................................\n",
      "[CV] .. n_estimators=1000, max_depth=13, score=0.840990, total= 2.6min\n",
      "[CV] n_estimators=1000, max_depth=13 .................................\n",
      "[CV] .. n_estimators=1000, max_depth=13, score=0.835153, total= 2.7min\n",
      "[CV] n_estimators=1200, max_depth=13 .................................\n",
      "[CV] .. n_estimators=1000, max_depth=13, score=0.865188, total= 2.6min\n",
      "[CV] n_estimators=1200, max_depth=13 .................................\n",
      "[CV] .. n_estimators=1000, max_depth=13, score=0.849210, total= 2.6min\n",
      "[CV] n_estimators=1200, max_depth=13 .................................\n",
      "[CV] .. n_estimators=1000, max_depth=13, score=0.824789, total= 2.7min\n",
      "[CV] n_estimators=1200, max_depth=13 .................................\n",
      "[CV] .. n_estimators=1200, max_depth=13, score=0.828551, total= 3.1min\n",
      "[CV] n_estimators=1200, max_depth=13 .................................\n",
      "[CV] .. n_estimators=1200, max_depth=13, score=0.831637, total= 3.2min\n",
      "[CV] n_estimators=1200, max_depth=13 .................................\n",
      "[CV] .. n_estimators=1200, max_depth=13, score=0.812524, total= 3.2min\n",
      "[CV] n_estimators=1200, max_depth=13 .................................\n",
      "[CV] .. n_estimators=1200, max_depth=13, score=0.835951, total= 3.2min\n",
      "[CV] n_estimators=1200, max_depth=13 .................................\n",
      "[CV] .. n_estimators=1200, max_depth=13, score=0.833713, total= 3.2min\n",
      "[CV] n_estimators=1200, max_depth=13 .................................\n",
      "[CV] .. n_estimators=1200, max_depth=13, score=0.841379, total= 3.2min\n",
      "[CV] n_estimators=1200, max_depth=13 .................................\n",
      "[CV] .. n_estimators=1200, max_depth=13, score=0.835714, total= 3.1min\n",
      "[CV] n_estimators=1000, max_depth=20 .................................\n",
      "[CV] .. n_estimators=1200, max_depth=13, score=0.864976, total= 3.1min\n",
      "[CV] n_estimators=1000, max_depth=20 .................................\n",
      "[CV] .. n_estimators=1200, max_depth=13, score=0.849751, total= 3.0min\n",
      "[CV] n_estimators=1000, max_depth=20 .................................\n",
      "[CV] .. n_estimators=1200, max_depth=13, score=0.824479, total= 3.1min\n",
      "[CV] n_estimators=1000, max_depth=20 .................................\n",
      "[CV] .. n_estimators=1000, max_depth=20, score=0.825245, total= 3.1min\n",
      "[CV] n_estimators=1000, max_depth=20 .................................\n",
      "[CV] .. n_estimators=1000, max_depth=20, score=0.825941, total= 3.2min\n",
      "[CV] n_estimators=1000, max_depth=20 .................................\n",
      "[CV] .. n_estimators=1000, max_depth=20, score=0.813935, total= 3.1min\n",
      "[CV] n_estimators=1000, max_depth=20 .................................\n",
      "[CV] .. n_estimators=1000, max_depth=20, score=0.821596, total= 3.2min\n",
      "[CV] n_estimators=1000, max_depth=20 .................................\n"
     ]
    },
    {
     "name": "stderr",
     "output_type": "stream",
     "text": [
      "[Parallel(n_jobs=4)]: Done  24 tasks      | elapsed: 19.8min\n"
     ]
    },
    {
     "name": "stdout",
     "output_type": "stream",
     "text": [
      "[CV] .. n_estimators=1000, max_depth=20, score=0.822654, total= 3.1min\n",
      "[CV] n_estimators=1000, max_depth=20 .................................\n",
      "[CV] .. n_estimators=1000, max_depth=20, score=0.840113, total= 3.1min\n",
      "[CV] n_estimators=1000, max_depth=20 .................................\n",
      "[CV] .. n_estimators=1000, max_depth=20, score=0.832281, total= 3.1min\n",
      "[CV] n_estimators=1200, max_depth=20 .................................\n",
      "[CV] .. n_estimators=1000, max_depth=20, score=0.855657, total= 3.2min\n",
      "[CV] n_estimators=1200, max_depth=20 .................................\n",
      "[CV] .. n_estimators=1000, max_depth=20, score=0.844922, total= 3.2min\n",
      "[CV] n_estimators=1200, max_depth=20 .................................\n",
      "[CV] .. n_estimators=1000, max_depth=20, score=0.818095, total= 3.2min\n",
      "[CV] n_estimators=1200, max_depth=20 .................................\n",
      "[CV] .. n_estimators=1200, max_depth=20, score=0.824951, total= 3.7min\n",
      "[CV] n_estimators=1200, max_depth=20 .................................\n",
      "[CV] .. n_estimators=1200, max_depth=20, score=0.826487, total= 3.7min\n",
      "[CV] n_estimators=1200, max_depth=20 .................................\n",
      "[CV] .. n_estimators=1200, max_depth=20, score=0.814214, total= 3.9min\n",
      "[CV] n_estimators=1200, max_depth=20 .................................\n",
      "[CV] .. n_estimators=1200, max_depth=20, score=0.821717, total= 3.9min\n",
      "[CV] n_estimators=1200, max_depth=20 .................................\n",
      "[CV] .. n_estimators=1200, max_depth=20, score=0.821987, total= 3.9min\n",
      "[CV] n_estimators=1200, max_depth=20 .................................\n",
      "[CV] .. n_estimators=1200, max_depth=20, score=0.840558, total= 3.8min\n",
      "[CV] n_estimators=1200, max_depth=20 .................................\n",
      "[CV] .. n_estimators=1200, max_depth=20, score=0.855460, total= 3.8min\n",
      "[CV] .. n_estimators=1200, max_depth=20, score=0.831373, total= 3.8min\n",
      "[CV] .. n_estimators=1200, max_depth=20, score=0.845249, total= 3.4min\n",
      "[CV] .. n_estimators=1200, max_depth=20, score=0.817204, total= 3.2min\n"
     ]
    },
    {
     "name": "stderr",
     "output_type": "stream",
     "text": [
      "[Parallel(n_jobs=4)]: Done  40 out of  40 | elapsed: 35.0min finished\n"
     ]
    },
    {
     "data": {
      "text/plain": [
       "GridSearchCV(cv=10, error_score='raise',\n",
       "       estimator=RandomForestClassifier(bootstrap=True, class_weight=None, criterion='gini',\n",
       "            max_depth=None, max_features='auto', max_leaf_nodes=None,\n",
       "            min_impurity_split=1e-07, min_samples_leaf=1,\n",
       "            min_samples_split=2, min_weight_fraction_leaf=0.0,\n",
       "            n_estimators=10, n_jobs=1, oob_score=False, random_state=50,\n",
       "            verbose=0, warm_start=False),\n",
       "       fit_params={}, iid=True, n_jobs=4,\n",
       "       param_grid=[{'n_estimators': [1000, 1200], 'max_depth': [13, 20]}],\n",
       "       pre_dispatch='2*n_jobs', refit=True, return_train_score=True,\n",
       "       scoring='roc_auc', verbose=3)"
      ]
     },
     "execution_count": 15,
     "metadata": {},
     "output_type": "execute_result"
    }
   ],
   "source": [
    "# Train and Model validation\n",
    "# Few parameter values are removed as it would take time to run all the parameters.These parameter values are selected \n",
    "# After long train and errors.\n",
    "rf = RandomForestClassifier(random_state=50)\n",
    "parameters = [{'n_estimators':[1000,1200],'max_depth':[13,20]}]\n",
    "clf = GridSearchCV(rf,cv=10,param_grid=parameters,scoring='roc_auc',verbose=3,n_jobs=4)\n",
    "clf.fit(top_95_percent_train_features,train_labels.values)"
   ]
  },
  {
   "cell_type": "code",
   "execution_count": 16,
   "metadata": {
    "collapsed": false
   },
   "outputs": [
    {
     "data": {
      "text/plain": [
       "RandomForestClassifier(bootstrap=True, class_weight=None, criterion='gini',\n",
       "            max_depth=13, max_features='auto', max_leaf_nodes=None,\n",
       "            min_impurity_split=1e-07, min_samples_leaf=1,\n",
       "            min_samples_split=2, min_weight_fraction_leaf=0.0,\n",
       "            n_estimators=1000, n_jobs=1, oob_score=False, random_state=50,\n",
       "            verbose=0, warm_start=False)"
      ]
     },
     "execution_count": 16,
     "metadata": {},
     "output_type": "execute_result"
    }
   ],
   "source": [
    "# Getting parameters of the best estimator\n",
    "clf.best_estimator_"
   ]
  },
  {
   "cell_type": "code",
   "execution_count": 17,
   "metadata": {
    "collapsed": false
   },
   "outputs": [],
   "source": [
    "# predictions of the best model\n",
    "predictions = clf.predict_proba(top_95_percent_test_features)"
   ]
  },
  {
   "cell_type": "code",
   "execution_count": 18,
   "metadata": {
    "collapsed": false
   },
   "outputs": [],
   "source": [
    "# Saving predictions of best model\n",
    "pd.DataFrame({\"ID\":test_ID.values,\"TARGET\":predictions[:,1]}).to_csv('BestRandomForestModel.csv',index = False)"
   ]
  },
  {
   "cell_type": "code",
   "execution_count": 19,
   "metadata": {
    "collapsed": true
   },
   "outputs": [],
   "source": [
    "# Initializing best model for sensitivity analysis \n",
    "best_rf = RandomForestClassifier(random_state=50 , max_depth=13,n_estimators=1200)"
   ]
  },
  {
   "cell_type": "code",
   "execution_count": 20,
   "metadata": {
    "collapsed": false
   },
   "outputs": [],
   "source": [
    "# Adding noise to training data\n",
    "# No of rows in train data\n",
    "no_of_rows = top_95_percent_train_features.shape[0]\n",
    "for feature in top_95_percent_train_features.keys():\n",
    "    std = top_95_percent_train_features[feature].std()\n",
    "    # Adding random number in range of - STD  to STD to 5 different groups of each size 2% for every feature\n",
    "    top_95_percent_train_features[feature][np.random.randint(0,no_of_rows,int(no_of_rows/50))].add(np.random.random_sample()/std)\n",
    "    top_95_percent_train_features[feature][np.random.randint(0,no_of_rows,int(no_of_rows/50))].add(np.random.random_sample()/std)\n",
    "    top_95_percent_train_features[feature][np.random.randint(0,no_of_rows,int(no_of_rows/50))].add(np.random.random_sample()/std)\n",
    "    top_95_percent_train_features[feature][np.random.randint(0,no_of_rows,int(no_of_rows/50))].add(np.random.random_sample()/std)\n",
    "    top_95_percent_train_features[feature][np.random.randint(0,no_of_rows,int(no_of_rows/50))].add(np.random.random_sample()/std)"
   ]
  },
  {
   "cell_type": "code",
   "execution_count": 21,
   "metadata": {
    "collapsed": false
   },
   "outputs": [
    {
     "data": {
      "text/plain": [
       "RandomForestClassifier(bootstrap=True, class_weight=None, criterion='gini',\n",
       "            max_depth=13, max_features='auto', max_leaf_nodes=None,\n",
       "            min_impurity_split=1e-07, min_samples_leaf=1,\n",
       "            min_samples_split=2, min_weight_fraction_leaf=0.0,\n",
       "            n_estimators=1200, n_jobs=1, oob_score=False, random_state=50,\n",
       "            verbose=0, warm_start=False)"
      ]
     },
     "execution_count": 21,
     "metadata": {},
     "output_type": "execute_result"
    }
   ],
   "source": [
    "best_rf.fit(top_95_percent_train_features,train_labels)"
   ]
  },
  {
   "cell_type": "code",
   "execution_count": 22,
   "metadata": {
    "collapsed": false
   },
   "outputs": [],
   "source": [
    "# Getting predictions of the best model\n",
    "predictions_sensivity = best_rf.predict_proba(top_95_percent_test_features)"
   ]
  },
  {
   "cell_type": "code",
   "execution_count": 23,
   "metadata": {
    "collapsed": true
   },
   "outputs": [],
   "source": [
    "# Saving predictions of best model after sensitivity test\n",
    "pd.DataFrame({\"ID\":test_ID.values,\"TARGET\":predictions[:,1]}).to_csv('BestRandomForestSensivityModel.csv',index = False)"
   ]
  }
 ],
 "metadata": {
  "anaconda-cloud": {},
  "kernelspec": {
   "display_name": "Python [default]",
   "language": "python",
   "name": "python2"
  },
  "language_info": {
   "codemirror_mode": {
    "name": "ipython",
    "version": 2
   },
   "file_extension": ".py",
   "mimetype": "text/x-python",
   "name": "python",
   "nbconvert_exporter": "python",
   "pygments_lexer": "ipython2",
   "version": "2.7.12"
  }
 },
 "nbformat": 4,
 "nbformat_minor": 1
}
